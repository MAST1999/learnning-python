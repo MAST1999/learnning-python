{
 "metadata": {
  "language_info": {
   "codemirror_mode": {
    "name": "ipython",
    "version": 3
   },
   "file_extension": ".py",
   "mimetype": "text/x-python",
   "name": "python",
   "nbconvert_exporter": "python",
   "pygments_lexer": "ipython3",
   "version": "3.9.5"
  },
  "orig_nbformat": 2,
  "kernelspec": {
   "name": "python395jvsc74a57bd0ba9ebb1ede6b0f1a76bd4039a45080f9a2b9b90634c7dfcf1649cb9a40929e90",
   "display_name": "Python 3.9.5 64-bit"
  },
  "metadata": {
   "interpreter": {
    "hash": "ba9ebb1ede6b0f1a76bd4039a45080f9a2b9b90634c7dfcf1649cb9a40929e90"
   }
  }
 },
 "nbformat": 4,
 "nbformat_minor": 2,
 "cells": [
  {
   "source": [
    "# This is a Note book in which I can explain what's going on!"
   ],
   "cell_type": "markdown",
   "metadata": {}
  },
  {
   "source": [
    "Well I was just trying it out but it turned out to be quite good and possibly useful.\n",
    "\n",
    "Down below I will run a simple code just to see it work."
   ],
   "cell_type": "markdown",
   "metadata": {}
  },
  {
   "cell_type": "code",
   "execution_count": 1,
   "metadata": {},
   "outputs": [
    {
     "output_type": "stream",
     "name": "stdout",
     "text": [
      "[4, 3, 2, 1]\n"
     ]
    }
   ],
   "source": [
    "x = [1, 2, 3, 4]\n",
    "x.reverse()\n",
    "print(x)"
   ]
  },
  {
   "source": [
    "And thats it, it was fun but I don't have access to vim here so see ya."
   ],
   "cell_type": "markdown",
   "metadata": {}
  }
 ]
}